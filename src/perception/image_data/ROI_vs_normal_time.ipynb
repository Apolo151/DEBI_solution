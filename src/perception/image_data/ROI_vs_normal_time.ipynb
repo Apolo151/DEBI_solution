{
 "cells": [
  {
   "cell_type": "code",
   "execution_count": 2,
   "id": "019c4b2a",
   "metadata": {},
   "outputs": [],
   "source": [
    "import numpy as np\n",
    "import pandas as pd"
   ]
  },
  {
   "cell_type": "code",
   "execution_count": 10,
   "id": "1657957a",
   "metadata": {},
   "outputs": [],
   "source": [
    "normal_data = pd.read_csv(\"normal_time.csv\", header=None)\n",
    "cropped_data = pd.read_csv(\"cropped_time.csv\", header=None)"
   ]
  },
  {
   "cell_type": "code",
   "execution_count": 21,
   "id": "9dce5a3b",
   "metadata": {},
   "outputs": [],
   "source": [
    "avg_normal = sum(normal_data[0])/normal_data[0].count()\n",
    "avg_cropped = sum(cropped_data[0])/cropped_data[0].count()\n",
    "\n",
    "improve_percent = avg_normal/avg_cropped"
   ]
  },
  {
   "cell_type": "code",
   "execution_count": 25,
   "id": "d5e177fe",
   "metadata": {},
   "outputs": [
    {
     "name": "stdout",
     "output_type": "stream",
     "text": [
      "mean of normal images: 0.007223633326351914\n",
      "mean of cropped images: 0.0014727279724862411\n",
      "improvement percentage  490.49%\n"
     ]
    }
   ],
   "source": [
    "print(f'mean of normal images: {avg_normal}')\n",
    "print(f'mean of cropped images: {avg_cropped}')\n",
    "print(f'improvement percentage {improve_percent*100: .2f}%')"
   ]
  },
  {
   "cell_type": "code",
   "execution_count": null,
   "id": "8cf4f38d",
   "metadata": {},
   "outputs": [],
   "source": []
  }
 ],
 "metadata": {
  "kernelspec": {
   "display_name": "Python 3 (ipykernel)",
   "language": "python",
   "name": "python3"
  },
  "language_info": {
   "codemirror_mode": {
    "name": "ipython",
    "version": 3
   },
   "file_extension": ".py",
   "mimetype": "text/x-python",
   "name": "python",
   "nbconvert_exporter": "python",
   "pygments_lexer": "ipython3",
   "version": "3.10.9"
  }
 },
 "nbformat": 4,
 "nbformat_minor": 5
}
